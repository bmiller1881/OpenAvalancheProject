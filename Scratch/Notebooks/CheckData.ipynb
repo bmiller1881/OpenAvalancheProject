{
 "cells": [
  {
   "cell_type": "markdown",
   "metadata": {},
   "source": [
    "### Notebook which does some data spotchecking to ensure the data processing didn't introduce any errors"
   ]
  },
  {
   "cell_type": "code",
   "execution_count": 1,
   "metadata": {},
   "outputs": [],
   "source": [
    "import xarray as xr\n",
    "from joblib import Parallel, delayed\n",
    "import pickle\n",
    "import pandas as pd\n",
    "from openavalancheproject.prep_ml import PrepML\n",
    "import numpy as np"
   ]
  },
  {
   "cell_type": "code",
   "execution_count": 2,
   "metadata": {},
   "outputs": [],
   "source": [
    "interpolate = 1 \n",
    "data_root = '/media/scottcha/E1/Data/OAPMLData/'"
   ]
  },
  {
   "cell_type": "code",
   "execution_count": 3,
   "metadata": {},
   "outputs": [],
   "source": [
    "pml = PrepML(data_root, interpolate, date_start='2018-11-01', date_end='2019-04-30', date_train_test_cutoff='2019-04-01')   "
   ]
  },
  {
   "cell_type": "code",
   "execution_count": 4,
   "metadata": {},
   "outputs": [],
   "source": [
    "#get produced dataset\n",
    "ml_path = data_root + '/5.MLData/'\n",
    "num_features = 978\n",
    "interpolation = 1\n",
    "label = 'Day1DangerAboveTreeline'\n",
    "file_label = 'co_Day1DangerAboveTreeline_small'\n",
    "X = np.load(ml_path + '/X_all_' + file_label + '.npy', mmap_mode='r')\n",
    "\n"
   ]
  },
  {
   "cell_type": "code",
   "execution_count": 5,
   "metadata": {},
   "outputs": [],
   "source": [
    "i=0\n",
    "\n",
    "\n",
    "y_df = None\n",
    "\n",
    "df = pd.read_parquet(ml_path + '/y_train_batch_' + str(i) + '_' + file_label + '.parquet')  \n",
    "y_df = pd.concat([y_df, df])\n",
    "\n",
    "df = pd.read_parquet(ml_path + '/y_test_batch_' + str(i) + '_' + file_label + '.parquet')  \n",
    "y_df = pd.concat([y_df, df])\n",
    "\n",
    "y_df = y_df.reset_index(drop=True)"
   ]
  },
  {
   "cell_type": "code",
   "execution_count": 6,
   "metadata": {},
   "outputs": [],
   "source": [
    "num_files_to_validate = 10\n",
    "y_to_validate = y_df.sample(n=num_files_to_validate)"
   ]
  },
  {
   "cell_type": "code",
   "execution_count": 7,
   "metadata": {},
   "outputs": [],
   "source": [
    "def is_equal(a, b):\n",
    "    return np.array_equiv(np.nan_to_num(a),np.nan_to_num(b))\n",
    "    "
   ]
  },
  {
   "cell_type": "code",
   "execution_count": 9,
   "metadata": {},
   "outputs": [],
   "source": [
    "features = pd.read_csv(ml_path + '/FeatureLabels_' + file_label + '.csv')['0']"
   ]
  },
  {
   "cell_type": "code",
   "execution_count": 10,
   "metadata": {},
   "outputs": [
    {
     "data": {
      "text/plain": [
       "0              UGRD_planetaryboundarylayer_min\n",
       "1              VGRD_planetaryboundarylayer_min\n",
       "2             VRATE_planetaryboundarylayer_min\n",
       "3                             GUST_surface_min\n",
       "4                                 HGT_10mb_min\n",
       "                        ...                   \n",
       "973     HGT_PV_EQ_M2eM06_Km_2_kg_s_surface_avg\n",
       "974    PRES_PV_EQ_M2eM06_Km_2_kg_s_surface_avg\n",
       "975    VWSH_PV_EQ_M2eM06_Km_2_kg_s_surface_avg\n",
       "976                     PRMSL_meansealevel_avg\n",
       "977                           N5WAVH_500mb_avg\n",
       "Name: 0, Length: 978, dtype: object"
      ]
     },
     "execution_count": 10,
     "metadata": {},
     "output_type": "execute_result"
    }
   ],
   "source": [
    "features"
   ]
  },
  {
   "cell_type": "code",
   "execution_count": 11,
   "metadata": {},
   "outputs": [
    {
     "name": "stdout",
     "output_type": "stream",
     "text": [
      "Sample: 2017-12-29 00:00:00: Aspen Zone\n",
      "Sample: 2019-01-16 00:00:00: North San Juan Mountains\n",
      "Sample: 2017-04-10 00:00:00: Sangre de Cristo Range\n",
      "Sample: 2019-04-11 00:00:00: North San Juan Mountains\n",
      "Sample: 2017-01-25 00:00:00: Sangre de Cristo Range\n",
      "Sample: 2018-01-27 00:00:00: North San Juan Mountains\n",
      "Sample: 2016-02-01 00:00:00: North San Juan Mountains\n",
      "Sample: 2016-01-21 00:00:00: Vail Summit Zone\n",
      "Sample: 2015-11-18 00:00:00: South San Juan Mountains\n",
      "Sample: 2015-11-27 00:00:00: Sangre de Cristo Range\n"
     ]
    }
   ],
   "source": [
    "for r in y_to_validate.iterrows():\n",
    "    i = r[0]\n",
    "    r = r[1]\n",
    "    \n",
    "    test_region = r['UnifiedRegion']\n",
    "    test_lat = r['latitude']\n",
    "    test_lon = r['longitude']\n",
    "    test_lookback = 180\n",
    "    test_date = r['parsed_date']\n",
    "    print('Sample: ' + r['sample'])\n",
    "    data = pml.get_data_zarr(test_region, lat=test_lat, lon=test_lon, lookback_days=test_lookback, date=test_date, variables=features.values)\n",
    "    data = data.sortby('variable')\n",
    "    data2 = X[i]\n",
    "    assert is_equal(data.vars.values, data2)"
   ]
  }
 ],
 "metadata": {
  "kernelspec": {
   "display_name": "Python [conda env:pangeo_small3]",
   "language": "python",
   "name": "conda-env-pangeo_small3-py"
  },
  "language_info": {
   "codemirror_mode": {
    "name": "ipython",
    "version": 3
   },
   "file_extension": ".py",
   "mimetype": "text/x-python",
   "name": "python",
   "nbconvert_exporter": "python",
   "pygments_lexer": "ipython3",
   "version": "3.7.7"
  }
 },
 "nbformat": 4,
 "nbformat_minor": 4
}
