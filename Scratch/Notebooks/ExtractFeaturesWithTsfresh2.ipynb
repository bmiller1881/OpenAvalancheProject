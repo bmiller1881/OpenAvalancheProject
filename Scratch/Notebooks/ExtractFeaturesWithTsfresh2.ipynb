{
 "cells": [
  {
   "cell_type": "code",
   "execution_count": 1,
   "metadata": {},
   "outputs": [],
   "source": [
    "%reload_ext autoreload\n",
    "%autoreload 2\n",
    "%matplotlib inline\n",
    "import matplotlib.pyplot as plt"
   ]
  },
  {
   "cell_type": "code",
   "execution_count": 2,
   "metadata": {},
   "outputs": [],
   "source": [
    "data_root = '/media/scottcha/E1/Data/OAPMLData'\n",
    "\n",
    "ml_path = data_root + '/5.MLData'\n",
    "num_features = 978\n",
    "interpolation = 1"
   ]
  },
  {
   "cell_type": "code",
   "execution_count": 3,
   "metadata": {},
   "outputs": [],
   "source": [
    "from tsai import utils as tsai_utils\n",
    "import numpy as np\n",
    "import pandas as pd\n",
    "from tsfresh import extract_relevant_features, extract_features"
   ]
  },
  {
   "cell_type": "code",
   "execution_count": 4,
   "metadata": {},
   "outputs": [],
   "source": [
    "interesting_labels =  ['Day1DangerAboveTreeline',\n",
    "                         'Day1DangerBelowTreeline',\n",
    "                         'Day1DangerNearTreeline']"
   ]
  },
  {
   "cell_type": "code",
   "execution_count": 10,
   "metadata": {},
   "outputs": [
    {
     "name": "stdout",
     "output_type": "stream",
     "text": [
      "On: Day1DangerAboveTreeline\n"
     ]
    }
   ],
   "source": [
    "l = interesting_labels[0]\n",
    "print('On: ' + l)\n",
    "label = l\n",
    "file_label = 'co_' + l + '_small'\n",
    "fname = ml_path + '/X_all_' + file_label + '.npy'\n",
    "\n",
    "\n",
    "        \n",
    "X = np.load(fname, mmap_mode='r')\n",
    "X = X[0:5000,:,:]"
   ]
  },
  {
   "cell_type": "code",
   "execution_count": 11,
   "metadata": {},
   "outputs": [
    {
     "data": {
      "text/plain": [
       "(5000, 978, 180)"
      ]
     },
     "execution_count": 11,
     "metadata": {},
     "output_type": "execute_result"
    }
   ],
   "source": [
    "X.shape"
   ]
  },
  {
   "cell_type": "code",
   "execution_count": 12,
   "metadata": {},
   "outputs": [],
   "source": [
    "from pandas.api.types import CategoricalDtype\n",
    "#from tsai.all import *\n",
    "from joblib import Parallel, delayed\n",
    "import os.path\n",
    "import numpy as np\n",
    "\n",
    "# Cell\n",
    "class TSAIUtilities:\n",
    "    def __init__(self, X, label):\n",
    "        self.X = X\n",
    "        self.num_features = X.shape[1]\n",
    "        self.label = label\n",
    "\n",
    "    def _calculate_feature_mean(self, feature_index, num_samples_to_use=5000):\n",
    "        return np.nanmean(self.X[0:num_samples_to_use,feature_index,:])\n",
    "\n",
    "    def _calculate_feature_std(self, feature_index, num_samples_to_use=5000):\n",
    "        return np.nanstd(self.X[0:num_samples_to_use,feature_index,:])\n",
    "\n",
    "    def get_feature_means(self, from_cache=None):\n",
    "        if not os.path.isfile(from_cache):\n",
    "            feature_means = Parallel(n_jobs=4)(map(delayed(self._calculate_feature_mean), range(0,self.num_features)))\n",
    "\n",
    "            if from_cache is not None:\n",
    "                np.save(from_cache, np.asarray(feature_means))\n",
    "        else:\n",
    "            feature_means = np.load(from_cache)\n",
    "\n",
    "        return feature_means\n",
    "\n",
    "    def get_feature_std(self, from_cache=None):\n",
    "        if not os.path.isfile(from_cache):\n",
    "            feature_std = Parallel(n_jobs=4)(map(delayed(self._calculate_feature_std), range(0,self.num_features)))\n",
    "\n",
    "            if from_cache is not None:\n",
    "                np.save(from_cache, np.asarray(feature_std))\n",
    "\n",
    "        else:\n",
    "            feature_std = np.load(from_cache)\n",
    "\n",
    "        return feature_std\n",
    "\n",
    "    def get_y_as_cat(self, y_df):\n",
    "        #convert the labels to encoded values\n",
    "        labels = y_df[self.label].unique()\n",
    "        if 'Low' in labels:\n",
    "            labels = ['Low', 'Moderate', 'Considerable', 'High']\n",
    "        else:\n",
    "            labels.sort()\n",
    "        cat_type = CategoricalDtype(categories=labels, ordered=True)\n",
    "        y_df[self.label + '_Cat'] = y_df[self.label].astype(cat_type)\n",
    "        y = y_df[self.label + '_Cat'].cat.codes.values\n",
    "\n",
    "        cat_dict = dict( enumerate(y_df[self.label + '_Cat'].cat.categories ) )\n",
    "        return y, cat_dict\n"
   ]
  },
  {
   "cell_type": "code",
   "execution_count": 13,
   "metadata": {},
   "outputs": [],
   "source": [
    "oap_utils = TSAIUtilities(X, label)"
   ]
  },
  {
   "cell_type": "code",
   "execution_count": 14,
   "metadata": {},
   "outputs": [],
   "source": [
    "feature_means = oap_utils.get_feature_means('./feature_means.csv')\n",
    "feature_std = oap_utils.get_feature_std('./feature_std.csv')"
   ]
  },
  {
   "cell_type": "code",
   "execution_count": 15,
   "metadata": {},
   "outputs": [
    {
     "data": {
      "text/plain": [
       "False"
      ]
     },
     "execution_count": 15,
     "metadata": {},
     "output_type": "execute_result"
    }
   ],
   "source": [
    "np.isnan(feature_std).any()"
   ]
  },
  {
   "cell_type": "code",
   "execution_count": 16,
   "metadata": {},
   "outputs": [
    {
     "data": {
      "text/plain": [
       "(5000, 978, 180)"
      ]
     },
     "execution_count": 16,
     "metadata": {},
     "output_type": "execute_result"
    }
   ],
   "source": [
    "X.shape"
   ]
  },
  {
   "cell_type": "code",
   "execution_count": 17,
   "metadata": {},
   "outputs": [],
   "source": [
    "X_std = np.full_like(X, 0)"
   ]
  },
  {
   "cell_type": "code",
   "execution_count": 18,
   "metadata": {},
   "outputs": [
    {
     "name": "stderr",
     "output_type": "stream",
     "text": [
      "<ipython-input-18-77bf24bc7c99>:4: RuntimeWarning: invalid value encountered in true_divide\n",
      "  X_std[:,i,:] = (X_tmp - feature_means[i])/(feature_std[i])\n"
     ]
    }
   ],
   "source": [
    "for i in range(X.shape[1]):\n",
    "    X_tmp = np.nan_to_num(X[:,i,:], nan=feature_means[i])\n",
    "    \n",
    "    X_std[:,i,:] = (X_tmp - feature_means[i])/(feature_std[i])"
   ]
  },
  {
   "cell_type": "code",
   "execution_count": 19,
   "metadata": {},
   "outputs": [],
   "source": [
    "feature_names = pd.read_csv(ml_path + '/FeatureLabels_co_Day1DangerAboveTreeline_small.csv').sort_values(['0'])"
   ]
  },
  {
   "cell_type": "code",
   "execution_count": 20,
   "metadata": {},
   "outputs": [],
   "source": [
    "feature_names = feature_names['0'].reset_index(drop=True)"
   ]
  },
  {
   "cell_type": "code",
   "execution_count": 21,
   "metadata": {},
   "outputs": [],
   "source": [
    "feature_names = feature_names.str.replace('__', '_')"
   ]
  },
  {
   "cell_type": "code",
   "execution_count": 22,
   "metadata": {},
   "outputs": [],
   "source": [
    "feature_names = pd.concat([pd.Series(['id']), feature_names])"
   ]
  },
  {
   "cell_type": "code",
   "execution_count": 23,
   "metadata": {},
   "outputs": [],
   "source": [
    "X_df = tsai_utils.to_tsfresh_df(X_std)"
   ]
  },
  {
   "cell_type": "code",
   "execution_count": 24,
   "metadata": {},
   "outputs": [],
   "source": [
    "X_df.columns = feature_names"
   ]
  },
  {
   "cell_type": "code",
   "execution_count": 25,
   "metadata": {},
   "outputs": [
    {
     "data": {
      "text/html": [
       "<div>\n",
       "<style scoped>\n",
       "    .dataframe tbody tr th:only-of-type {\n",
       "        vertical-align: middle;\n",
       "    }\n",
       "\n",
       "    .dataframe tbody tr th {\n",
       "        vertical-align: top;\n",
       "    }\n",
       "\n",
       "    .dataframe thead th {\n",
       "        text-align: right;\n",
       "    }\n",
       "</style>\n",
       "<table border=\"1\" class=\"dataframe\">\n",
       "  <thead>\n",
       "    <tr style=\"text-align: right;\">\n",
       "      <th></th>\n",
       "      <th>id</th>\n",
       "      <th>ABSV_1000mb_avg</th>\n",
       "      <th>ABSV_1000mb_max</th>\n",
       "      <th>ABSV_1000mb_min</th>\n",
       "      <th>ABSV_100mb_avg</th>\n",
       "      <th>ABSV_100mb_max</th>\n",
       "      <th>ABSV_100mb_min</th>\n",
       "      <th>ABSV_10mb_avg</th>\n",
       "      <th>ABSV_10mb_max</th>\n",
       "      <th>ABSV_10mb_min</th>\n",
       "      <th>...</th>\n",
       "      <th>VWSH_PV_EQ_M2eM06_Km_2_kg_s_surface_min</th>\n",
       "      <th>VWSH_tropopause_avg</th>\n",
       "      <th>VWSH_tropopause_max</th>\n",
       "      <th>VWSH_tropopause_min</th>\n",
       "      <th>WEASD_surface_avg</th>\n",
       "      <th>WEASD_surface_max</th>\n",
       "      <th>WEASD_surface_min</th>\n",
       "      <th>WILT_surface_avg</th>\n",
       "      <th>WILT_surface_max</th>\n",
       "      <th>WILT_surface_min</th>\n",
       "    </tr>\n",
       "  </thead>\n",
       "  <tbody>\n",
       "    <tr>\n",
       "      <th>0</th>\n",
       "      <td>0</td>\n",
       "      <td>0.0</td>\n",
       "      <td>0.0</td>\n",
       "      <td>0.0</td>\n",
       "      <td>0.0</td>\n",
       "      <td>0.0</td>\n",
       "      <td>0.0</td>\n",
       "      <td>0.0</td>\n",
       "      <td>0.0</td>\n",
       "      <td>0.0</td>\n",
       "      <td>...</td>\n",
       "      <td>0.0</td>\n",
       "      <td>0.0</td>\n",
       "      <td>0.0</td>\n",
       "      <td>0.0</td>\n",
       "      <td>0.0</td>\n",
       "      <td>0.0</td>\n",
       "      <td>0.0</td>\n",
       "      <td>0.0</td>\n",
       "      <td>0.0</td>\n",
       "      <td>0.0</td>\n",
       "    </tr>\n",
       "    <tr>\n",
       "      <th>1</th>\n",
       "      <td>0</td>\n",
       "      <td>0.0</td>\n",
       "      <td>0.0</td>\n",
       "      <td>0.0</td>\n",
       "      <td>0.0</td>\n",
       "      <td>0.0</td>\n",
       "      <td>0.0</td>\n",
       "      <td>0.0</td>\n",
       "      <td>0.0</td>\n",
       "      <td>0.0</td>\n",
       "      <td>...</td>\n",
       "      <td>0.0</td>\n",
       "      <td>0.0</td>\n",
       "      <td>0.0</td>\n",
       "      <td>0.0</td>\n",
       "      <td>0.0</td>\n",
       "      <td>0.0</td>\n",
       "      <td>0.0</td>\n",
       "      <td>0.0</td>\n",
       "      <td>0.0</td>\n",
       "      <td>0.0</td>\n",
       "    </tr>\n",
       "    <tr>\n",
       "      <th>2</th>\n",
       "      <td>0</td>\n",
       "      <td>0.0</td>\n",
       "      <td>0.0</td>\n",
       "      <td>0.0</td>\n",
       "      <td>0.0</td>\n",
       "      <td>0.0</td>\n",
       "      <td>0.0</td>\n",
       "      <td>0.0</td>\n",
       "      <td>0.0</td>\n",
       "      <td>0.0</td>\n",
       "      <td>...</td>\n",
       "      <td>0.0</td>\n",
       "      <td>0.0</td>\n",
       "      <td>0.0</td>\n",
       "      <td>0.0</td>\n",
       "      <td>0.0</td>\n",
       "      <td>0.0</td>\n",
       "      <td>0.0</td>\n",
       "      <td>0.0</td>\n",
       "      <td>0.0</td>\n",
       "      <td>0.0</td>\n",
       "    </tr>\n",
       "    <tr>\n",
       "      <th>3</th>\n",
       "      <td>0</td>\n",
       "      <td>0.0</td>\n",
       "      <td>0.0</td>\n",
       "      <td>0.0</td>\n",
       "      <td>0.0</td>\n",
       "      <td>0.0</td>\n",
       "      <td>0.0</td>\n",
       "      <td>0.0</td>\n",
       "      <td>0.0</td>\n",
       "      <td>0.0</td>\n",
       "      <td>...</td>\n",
       "      <td>0.0</td>\n",
       "      <td>0.0</td>\n",
       "      <td>0.0</td>\n",
       "      <td>0.0</td>\n",
       "      <td>0.0</td>\n",
       "      <td>0.0</td>\n",
       "      <td>0.0</td>\n",
       "      <td>0.0</td>\n",
       "      <td>0.0</td>\n",
       "      <td>0.0</td>\n",
       "    </tr>\n",
       "    <tr>\n",
       "      <th>4</th>\n",
       "      <td>0</td>\n",
       "      <td>0.0</td>\n",
       "      <td>0.0</td>\n",
       "      <td>0.0</td>\n",
       "      <td>0.0</td>\n",
       "      <td>0.0</td>\n",
       "      <td>0.0</td>\n",
       "      <td>0.0</td>\n",
       "      <td>0.0</td>\n",
       "      <td>0.0</td>\n",
       "      <td>...</td>\n",
       "      <td>0.0</td>\n",
       "      <td>0.0</td>\n",
       "      <td>0.0</td>\n",
       "      <td>0.0</td>\n",
       "      <td>0.0</td>\n",
       "      <td>0.0</td>\n",
       "      <td>0.0</td>\n",
       "      <td>0.0</td>\n",
       "      <td>0.0</td>\n",
       "      <td>0.0</td>\n",
       "    </tr>\n",
       "  </tbody>\n",
       "</table>\n",
       "<p>5 rows × 979 columns</p>\n",
       "</div>"
      ],
      "text/plain": [
       "   id  ABSV_1000mb_avg  ABSV_1000mb_max  ABSV_1000mb_min  ABSV_100mb_avg  \\\n",
       "0   0              0.0              0.0              0.0             0.0   \n",
       "1   0              0.0              0.0              0.0             0.0   \n",
       "2   0              0.0              0.0              0.0             0.0   \n",
       "3   0              0.0              0.0              0.0             0.0   \n",
       "4   0              0.0              0.0              0.0             0.0   \n",
       "\n",
       "   ABSV_100mb_max  ABSV_100mb_min  ABSV_10mb_avg  ABSV_10mb_max  \\\n",
       "0             0.0             0.0            0.0            0.0   \n",
       "1             0.0             0.0            0.0            0.0   \n",
       "2             0.0             0.0            0.0            0.0   \n",
       "3             0.0             0.0            0.0            0.0   \n",
       "4             0.0             0.0            0.0            0.0   \n",
       "\n",
       "   ABSV_10mb_min  ...  VWSH_PV_EQ_M2eM06_Km_2_kg_s_surface_min  \\\n",
       "0            0.0  ...                                      0.0   \n",
       "1            0.0  ...                                      0.0   \n",
       "2            0.0  ...                                      0.0   \n",
       "3            0.0  ...                                      0.0   \n",
       "4            0.0  ...                                      0.0   \n",
       "\n",
       "   VWSH_tropopause_avg  VWSH_tropopause_max  VWSH_tropopause_min  \\\n",
       "0                  0.0                  0.0                  0.0   \n",
       "1                  0.0                  0.0                  0.0   \n",
       "2                  0.0                  0.0                  0.0   \n",
       "3                  0.0                  0.0                  0.0   \n",
       "4                  0.0                  0.0                  0.0   \n",
       "\n",
       "   WEASD_surface_avg  WEASD_surface_max  WEASD_surface_min  WILT_surface_avg  \\\n",
       "0                0.0                0.0                0.0               0.0   \n",
       "1                0.0                0.0                0.0               0.0   \n",
       "2                0.0                0.0                0.0               0.0   \n",
       "3                0.0                0.0                0.0               0.0   \n",
       "4                0.0                0.0                0.0               0.0   \n",
       "\n",
       "   WILT_surface_max  WILT_surface_min  \n",
       "0               0.0               0.0  \n",
       "1               0.0               0.0  \n",
       "2               0.0               0.0  \n",
       "3               0.0               0.0  \n",
       "4               0.0               0.0  \n",
       "\n",
       "[5 rows x 979 columns]"
      ]
     },
     "execution_count": 25,
     "metadata": {},
     "output_type": "execute_result"
    }
   ],
   "source": [
    "X_df.head()"
   ]
  },
  {
   "cell_type": "code",
   "execution_count": 26,
   "metadata": {},
   "outputs": [
    {
     "name": "stdout",
     "output_type": "stream",
     "text": [
      "{0: 'Low', 1: 'Moderate', 2: 'Considerable', 3: 'High'}\n"
     ]
    }
   ],
   "source": [
    "i = 0\n",
    "y_train_df = pd.read_parquet(ml_path + '/y_train_batch_' + str(i) + '_' + file_label + '.parquet')  \n",
    "y_test_df = pd.read_parquet(ml_path + '/y_test_batch_' + str(i) + '_' + file_label + '.parquet')  \n",
    "y_df = pd.concat([y_train_df, y_test_df]).reset_index(drop=True)\n",
    "y, cat_dict = oap_utils.get_y_as_cat(y_df)\n",
    "print(cat_dict)"
   ]
  },
  {
   "cell_type": "code",
   "execution_count": 27,
   "metadata": {},
   "outputs": [],
   "source": [
    "y = y[:5000]"
   ]
  },
  {
   "cell_type": "code",
   "execution_count": 28,
   "metadata": {},
   "outputs": [
    {
     "data": {
      "text/plain": [
       "(5000,)"
      ]
     },
     "execution_count": 28,
     "metadata": {},
     "output_type": "execute_result"
    }
   ],
   "source": [
    "y.shape"
   ]
  },
  {
   "cell_type": "code",
   "execution_count": 29,
   "metadata": {},
   "outputs": [
    {
     "data": {
      "text/plain": [
       "array([1, 2, 2, ..., 1, 1, 0], dtype=int8)"
      ]
     },
     "execution_count": 29,
     "metadata": {},
     "output_type": "execute_result"
    }
   ],
   "source": [
    "y"
   ]
  },
  {
   "cell_type": "code",
   "execution_count": 30,
   "metadata": {},
   "outputs": [
    {
     "data": {
      "text/plain": [
       "True"
      ]
     },
     "execution_count": 30,
     "metadata": {},
     "output_type": "execute_result"
    }
   ],
   "source": [
    "(np.isnan(X_df).any()).any()"
   ]
  },
  {
   "cell_type": "code",
   "execution_count": 31,
   "metadata": {},
   "outputs": [],
   "source": [
    "X_df.fillna(0, inplace=True)"
   ]
  },
  {
   "cell_type": "code",
   "execution_count": 32,
   "metadata": {},
   "outputs": [
    {
     "data": {
      "text/plain": [
       "5000"
      ]
     },
     "execution_count": 32,
     "metadata": {},
     "output_type": "execute_result"
    }
   ],
   "source": [
    "len(X_df['id'].unique())"
   ]
  },
  {
   "cell_type": "code",
   "execution_count": 33,
   "metadata": {},
   "outputs": [
    {
     "data": {
      "text/plain": [
       "5000"
      ]
     },
     "execution_count": 33,
     "metadata": {},
     "output_type": "execute_result"
    }
   ],
   "source": [
    "len(y)"
   ]
  },
  {
   "cell_type": "code",
   "execution_count": 16,
   "metadata": {},
   "outputs": [],
   "source": [
    "#means_fn = ml_path + '/feature_means_interpolation' + str(interpolation) + '_' + file_label + 'x.npy'\n",
    "#feature_means = utils.get_feature_means(from_cache=means_fn)"
   ]
  },
  {
   "cell_type": "code",
   "execution_count": null,
   "metadata": {},
   "outputs": [],
   "source": [
    "#fill_values = torch.zeros_like(TSTensor(X))\n",
    "#for i in range(0,X.shape[1]):\n",
    "#    fill_values[:,i,:] = torch.full_like(TSTensor(X[:,i,:]), feature_means[i])\n",
    "        \n",
    "#X_noNan = torch.where(torch.isnan(TSTensor(X)), fill_values, TSTensor(X))"
   ]
  },
  {
   "cell_type": "code",
   "execution_count": null,
   "metadata": {},
   "outputs": [
    {
     "name": "stderr",
     "output_type": "stream",
     "text": [
      "\r",
      "Feature Extraction:   0%|          | 0/310 [00:00<?, ?it/s]"
     ]
    }
   ],
   "source": [
    "#from tsfresh import extract_relevant_features\n",
    "\n",
    "#features_filtered_direct = extract_relevant_features(X_df, pd.Series(y),\n",
    "#                                                     column_id='id', n_jobs=62)"
   ]
  },
  {
   "cell_type": "code",
   "execution_count": 19,
   "metadata": {},
   "outputs": [],
   "source": [
    "#features_filtered_direct.to_csv(ml_path + '/tsfresh_features_0.csv')"
   ]
  },
  {
   "cell_type": "code",
   "execution_count": 25,
   "metadata": {},
   "outputs": [
    {
     "data": {
      "text/html": [
       "<div>\n",
       "<style scoped>\n",
       "    .dataframe tbody tr th:only-of-type {\n",
       "        vertical-align: middle;\n",
       "    }\n",
       "\n",
       "    .dataframe tbody tr th {\n",
       "        vertical-align: top;\n",
       "    }\n",
       "\n",
       "    .dataframe thead th {\n",
       "        text-align: right;\n",
       "    }\n",
       "</style>\n",
       "<table border=\"1\" class=\"dataframe\">\n",
       "  <thead>\n",
       "    <tr style=\"text-align: right;\">\n",
       "      <th></th>\n",
       "      <th>16__last_location_of_minimum</th>\n",
       "      <th>16__first_location_of_minimum</th>\n",
       "      <th>16__agg_linear_trend__attr_\"slope\"__chunk_len_10__f_agg_\"min\"</th>\n",
       "      <th>8__mean_change</th>\n",
       "      <th>8__change_quantiles__f_agg_\"mean\"__isabs_False__qh_1.0__ql_0.0</th>\n",
       "      <th>26__index_mass_quantile__q_0.2</th>\n",
       "      <th>24__agg_linear_trend__attr_\"slope\"__chunk_len_10__f_agg_\"min\"</th>\n",
       "      <th>25__agg_linear_trend__attr_\"slope\"__chunk_len_10__f_agg_\"min\"</th>\n",
       "      <th>15__last_location_of_minimum</th>\n",
       "      <th>8__time_reversal_asymmetry_statistic__lag_1</th>\n",
       "      <th>...</th>\n",
       "      <th>14__ar_coefficient__coeff_4__k_10</th>\n",
       "      <th>16__change_quantiles__f_agg_\"mean\"__isabs_True__qh_0.8__ql_0.0</th>\n",
       "      <th>4__fft_coefficient__attr_\"real\"__coeff_4</th>\n",
       "      <th>12__change_quantiles__f_agg_\"mean\"__isabs_False__qh_1.0__ql_0.8</th>\n",
       "      <th>10__cwt_coefficients__coeff_6__w_20__widths_(2, 5, 10, 20)</th>\n",
       "      <th>4__quantile__q_0.8</th>\n",
       "      <th>19__symmetry_looking__r_0.05</th>\n",
       "      <th>24__symmetry_looking__r_0.30000000000000004</th>\n",
       "      <th>0__has_duplicate</th>\n",
       "      <th>22__has_duplicate</th>\n",
       "    </tr>\n",
       "  </thead>\n",
       "  <tbody>\n",
       "    <tr>\n",
       "      <th>0</th>\n",
       "      <td>0.533333</td>\n",
       "      <td>0.0</td>\n",
       "      <td>0.000041</td>\n",
       "      <td>0.000003</td>\n",
       "      <td>0.000003</td>\n",
       "      <td>0.633333</td>\n",
       "      <td>0.000042</td>\n",
       "      <td>0.000044</td>\n",
       "      <td>0.533333</td>\n",
       "      <td>1.519479e-14</td>\n",
       "      <td>...</td>\n",
       "      <td>0.966928</td>\n",
       "      <td>0.000002</td>\n",
       "      <td>-0.000218</td>\n",
       "      <td>-0.000002</td>\n",
       "      <td>0.000054</td>\n",
       "      <td>0.000115</td>\n",
       "      <td>0.0</td>\n",
       "      <td>0.0</td>\n",
       "      <td>1.0</td>\n",
       "      <td>1.0</td>\n",
       "    </tr>\n",
       "    <tr>\n",
       "      <th>1</th>\n",
       "      <td>0.466667</td>\n",
       "      <td>0.0</td>\n",
       "      <td>0.000042</td>\n",
       "      <td>0.000004</td>\n",
       "      <td>0.000004</td>\n",
       "      <td>0.600000</td>\n",
       "      <td>0.000039</td>\n",
       "      <td>0.000045</td>\n",
       "      <td>0.466667</td>\n",
       "      <td>5.949558e-14</td>\n",
       "      <td>...</td>\n",
       "      <td>0.069985</td>\n",
       "      <td>0.000002</td>\n",
       "      <td>-0.000022</td>\n",
       "      <td>0.000012</td>\n",
       "      <td>0.000087</td>\n",
       "      <td>0.000124</td>\n",
       "      <td>0.0</td>\n",
       "      <td>1.0</td>\n",
       "      <td>1.0</td>\n",
       "      <td>1.0</td>\n",
       "    </tr>\n",
       "    <tr>\n",
       "      <th>2</th>\n",
       "      <td>0.433333</td>\n",
       "      <td>0.0</td>\n",
       "      <td>0.000042</td>\n",
       "      <td>0.000003</td>\n",
       "      <td>0.000003</td>\n",
       "      <td>0.566667</td>\n",
       "      <td>0.000043</td>\n",
       "      <td>0.000045</td>\n",
       "      <td>0.433333</td>\n",
       "      <td>3.779092e-14</td>\n",
       "      <td>...</td>\n",
       "      <td>0.705611</td>\n",
       "      <td>0.000003</td>\n",
       "      <td>-0.000008</td>\n",
       "      <td>0.000009</td>\n",
       "      <td>0.000108</td>\n",
       "      <td>0.000119</td>\n",
       "      <td>0.0</td>\n",
       "      <td>0.0</td>\n",
       "      <td>1.0</td>\n",
       "      <td>1.0</td>\n",
       "    </tr>\n",
       "    <tr>\n",
       "      <th>3</th>\n",
       "      <td>0.433333</td>\n",
       "      <td>0.0</td>\n",
       "      <td>0.000045</td>\n",
       "      <td>0.000003</td>\n",
       "      <td>0.000003</td>\n",
       "      <td>0.566667</td>\n",
       "      <td>0.000043</td>\n",
       "      <td>0.000046</td>\n",
       "      <td>0.433333</td>\n",
       "      <td>3.671881e-14</td>\n",
       "      <td>...</td>\n",
       "      <td>1.064174</td>\n",
       "      <td>0.000002</td>\n",
       "      <td>0.000008</td>\n",
       "      <td>0.000026</td>\n",
       "      <td>0.000112</td>\n",
       "      <td>0.000124</td>\n",
       "      <td>0.0</td>\n",
       "      <td>0.0</td>\n",
       "      <td>1.0</td>\n",
       "      <td>1.0</td>\n",
       "    </tr>\n",
       "    <tr>\n",
       "      <th>4</th>\n",
       "      <td>0.433333</td>\n",
       "      <td>0.0</td>\n",
       "      <td>0.000041</td>\n",
       "      <td>0.000003</td>\n",
       "      <td>0.000003</td>\n",
       "      <td>0.566667</td>\n",
       "      <td>0.000041</td>\n",
       "      <td>0.000042</td>\n",
       "      <td>0.433333</td>\n",
       "      <td>3.276297e-14</td>\n",
       "      <td>...</td>\n",
       "      <td>0.172475</td>\n",
       "      <td>0.000006</td>\n",
       "      <td>0.000125</td>\n",
       "      <td>0.000003</td>\n",
       "      <td>0.000106</td>\n",
       "      <td>0.000127</td>\n",
       "      <td>0.0</td>\n",
       "      <td>1.0</td>\n",
       "      <td>1.0</td>\n",
       "      <td>1.0</td>\n",
       "    </tr>\n",
       "  </tbody>\n",
       "</table>\n",
       "<p>5 rows × 8815 columns</p>\n",
       "</div>"
      ],
      "text/plain": [
       "   16__last_location_of_minimum  16__first_location_of_minimum  \\\n",
       "0                      0.533333                            0.0   \n",
       "1                      0.466667                            0.0   \n",
       "2                      0.433333                            0.0   \n",
       "3                      0.433333                            0.0   \n",
       "4                      0.433333                            0.0   \n",
       "\n",
       "   16__agg_linear_trend__attr_\"slope\"__chunk_len_10__f_agg_\"min\"  \\\n",
       "0                                                       0.000041   \n",
       "1                                                       0.000042   \n",
       "2                                                       0.000042   \n",
       "3                                                       0.000045   \n",
       "4                                                       0.000041   \n",
       "\n",
       "   8__mean_change  \\\n",
       "0        0.000003   \n",
       "1        0.000004   \n",
       "2        0.000003   \n",
       "3        0.000003   \n",
       "4        0.000003   \n",
       "\n",
       "   8__change_quantiles__f_agg_\"mean\"__isabs_False__qh_1.0__ql_0.0  \\\n",
       "0                                                        0.000003   \n",
       "1                                                        0.000004   \n",
       "2                                                        0.000003   \n",
       "3                                                        0.000003   \n",
       "4                                                        0.000003   \n",
       "\n",
       "   26__index_mass_quantile__q_0.2  \\\n",
       "0                        0.633333   \n",
       "1                        0.600000   \n",
       "2                        0.566667   \n",
       "3                        0.566667   \n",
       "4                        0.566667   \n",
       "\n",
       "   24__agg_linear_trend__attr_\"slope\"__chunk_len_10__f_agg_\"min\"  \\\n",
       "0                                                       0.000042   \n",
       "1                                                       0.000039   \n",
       "2                                                       0.000043   \n",
       "3                                                       0.000043   \n",
       "4                                                       0.000041   \n",
       "\n",
       "   25__agg_linear_trend__attr_\"slope\"__chunk_len_10__f_agg_\"min\"  \\\n",
       "0                                                       0.000044   \n",
       "1                                                       0.000045   \n",
       "2                                                       0.000045   \n",
       "3                                                       0.000046   \n",
       "4                                                       0.000042   \n",
       "\n",
       "   15__last_location_of_minimum  8__time_reversal_asymmetry_statistic__lag_1  \\\n",
       "0                      0.533333                                 1.519479e-14   \n",
       "1                      0.466667                                 5.949558e-14   \n",
       "2                      0.433333                                 3.779092e-14   \n",
       "3                      0.433333                                 3.671881e-14   \n",
       "4                      0.433333                                 3.276297e-14   \n",
       "\n",
       "   ...  14__ar_coefficient__coeff_4__k_10  \\\n",
       "0  ...                           0.966928   \n",
       "1  ...                           0.069985   \n",
       "2  ...                           0.705611   \n",
       "3  ...                           1.064174   \n",
       "4  ...                           0.172475   \n",
       "\n",
       "   16__change_quantiles__f_agg_\"mean\"__isabs_True__qh_0.8__ql_0.0  \\\n",
       "0                                                        0.000002   \n",
       "1                                                        0.000002   \n",
       "2                                                        0.000003   \n",
       "3                                                        0.000002   \n",
       "4                                                        0.000006   \n",
       "\n",
       "   4__fft_coefficient__attr_\"real\"__coeff_4  \\\n",
       "0                                 -0.000218   \n",
       "1                                 -0.000022   \n",
       "2                                 -0.000008   \n",
       "3                                  0.000008   \n",
       "4                                  0.000125   \n",
       "\n",
       "   12__change_quantiles__f_agg_\"mean\"__isabs_False__qh_1.0__ql_0.8  \\\n",
       "0                                                        -0.000002   \n",
       "1                                                         0.000012   \n",
       "2                                                         0.000009   \n",
       "3                                                         0.000026   \n",
       "4                                                         0.000003   \n",
       "\n",
       "   10__cwt_coefficients__coeff_6__w_20__widths_(2, 5, 10, 20)  \\\n",
       "0                                                    0.000054   \n",
       "1                                                    0.000087   \n",
       "2                                                    0.000108   \n",
       "3                                                    0.000112   \n",
       "4                                                    0.000106   \n",
       "\n",
       "   4__quantile__q_0.8  19__symmetry_looking__r_0.05  \\\n",
       "0            0.000115                           0.0   \n",
       "1            0.000124                           0.0   \n",
       "2            0.000119                           0.0   \n",
       "3            0.000124                           0.0   \n",
       "4            0.000127                           0.0   \n",
       "\n",
       "   24__symmetry_looking__r_0.30000000000000004  0__has_duplicate  \\\n",
       "0                                          0.0               1.0   \n",
       "1                                          1.0               1.0   \n",
       "2                                          0.0               1.0   \n",
       "3                                          0.0               1.0   \n",
       "4                                          1.0               1.0   \n",
       "\n",
       "   22__has_duplicate  \n",
       "0                1.0  \n",
       "1                1.0  \n",
       "2                1.0  \n",
       "3                1.0  \n",
       "4                1.0  \n",
       "\n",
       "[5 rows x 8815 columns]"
      ]
     },
     "execution_count": 25,
     "metadata": {},
     "output_type": "execute_result"
    }
   ],
   "source": [
    "#features_filtered_direct.head()"
   ]
  },
  {
   "cell_type": "code",
   "execution_count": 36,
   "metadata": {},
   "outputs": [],
   "source": [
    "num_features = len(feature_names)-1\n",
    "num_to_compute = 10"
   ]
  },
  {
   "cell_type": "code",
   "execution_count": 37,
   "metadata": {},
   "outputs": [
    {
     "name": "stdout",
     "output_type": "stream",
     "text": [
      "On 421\n"
     ]
    },
    {
     "name": "stderr",
     "output_type": "stream",
     "text": [
      "Feature Extraction: 100%|██████████| 60/60 [09:29<00:00,  9.48s/it]  \n"
     ]
    }
   ],
   "source": [
    "for i in range(421, 431, num_to_compute):\n",
    "    print('On ' + str(i))\n",
    "    cols = list(['id'])\n",
    "    cols.extend(list(feature_names.iloc[i:i+num_to_compute].values))\n",
    "    features_filtered_direct = extract_relevant_features(X_df.loc[:, cols], pd.Series(y),\n",
    "                                                         column_id='id', \n",
    "                                                         profile=True, profiling_filename='./profile.txt', \n",
    "                                                         n_jobs=12)\n",
    "    features_filtered_direct.to_csv(ml_path + '/tsfresh_features_' + str(i) + '_' + file_label + '.csv')"
   ]
  },
  {
   "cell_type": "code",
   "execution_count": 7,
   "metadata": {},
   "outputs": [
    {
     "ename": "NameError",
     "evalue": "name 'features_filtered_direct' is not defined",
     "output_type": "error",
     "traceback": [
      "\u001b[0;31m---------------------------------------------------------------------------\u001b[0m",
      "\u001b[0;31mNameError\u001b[0m                                 Traceback (most recent call last)",
      "\u001b[0;32m<ipython-input-7-247d3abf0832>\u001b[0m in \u001b[0;36m<module>\u001b[0;34m\u001b[0m\n\u001b[0;32m----> 1\u001b[0;31m \u001b[0mfeatures_filtered_direct\u001b[0m\u001b[0;34m.\u001b[0m\u001b[0mhead\u001b[0m\u001b[0;34m(\u001b[0m\u001b[0;34m)\u001b[0m\u001b[0;34m\u001b[0m\u001b[0;34m\u001b[0m\u001b[0m\n\u001b[0m",
      "\u001b[0;31mNameError\u001b[0m: name 'features_filtered_direct' is not defined"
     ]
    }
   ],
   "source": [
    "features_filtered_direct.head()"
   ]
  },
  {
   "cell_type": "code",
   "execution_count": 28,
   "metadata": {},
   "outputs": [],
   "source": [
    "ts_features_df = pd.read_csv(ml_path + '/tsfresh_features_1_co_Day1DangerAboveTreeline_small.csv', index_col=0)"
   ]
  },
  {
   "cell_type": "code",
   "execution_count": 30,
   "metadata": {},
   "outputs": [],
   "source": [
    "import tsfresh\n",
    "kind_to_fc_parameters = tsfresh.feature_extraction.settings.from_columns(ts_features_df)"
   ]
  },
  {
   "cell_type": "code",
   "execution_count": 39,
   "metadata": {},
   "outputs": [
    {
     "data": {
      "text/plain": [
       "50"
      ]
     },
     "execution_count": 39,
     "metadata": {},
     "output_type": "execute_result"
    }
   ],
   "source": [
    "len(list(kind_to_fc_parameters.keys()))"
   ]
  },
  {
   "cell_type": "code",
   "execution_count": 41,
   "metadata": {},
   "outputs": [
    {
     "data": {
      "text/plain": [
       "51"
      ]
     },
     "execution_count": 41,
     "metadata": {},
     "output_type": "execute_result"
    }
   ],
   "source": [
    "len(cols)"
   ]
  },
  {
   "cell_type": "code",
   "execution_count": 45,
   "metadata": {},
   "outputs": [
    {
     "name": "stdout",
     "output_type": "stream",
     "text": [
      "On 1\n"
     ]
    },
    {
     "name": "stderr",
     "output_type": "stream",
     "text": [
      "Feature Extraction: 100%|██████████| 70/70 [06:43<00:00,  5.77s/it] \n"
     ]
    }
   ],
   "source": [
    "num_features = len(feature_names)-1\n",
    "for i in range(1, 51, 50):\n",
    "    print('On ' + str(i))\n",
    "    cols = list(['id'])\n",
    "    cols.extend(list(feature_names.iloc[i:i+50].values))\n",
    "    features_filtered_direct = extract_features(X_df.loc[:, cols], \n",
    "                                                column_id='id', \n",
    "                                                kind_to_fc_parameters=kind_to_fc_parameters,\n",
    "                                                n_jobs=14)\n"
   ]
  },
  {
   "cell_type": "code",
   "execution_count": 48,
   "metadata": {},
   "outputs": [],
   "source": [
    "features_filtered_direct.to_csv(ml_path + '/tsfresh_features_1_co_Day1DangerAboveTreeline_small_test.csv')"
   ]
  },
  {
   "cell_type": "code",
   "execution_count": null,
   "metadata": {},
   "outputs": [],
   "source": [
    "extract_features(df, default_fc_parameters=settings)"
   ]
  },
  {
   "cell_type": "code",
   "execution_count": null,
   "metadata": {},
   "outputs": [],
   "source": [
    "num_features = len(feature_names)-1\n",
    "for i in range(1, 901, 5):\n",
    "    print('On ' + str(i))\n",
    "    cols = list(['id'])\n",
    "    cols.extend(list(feature_names.iloc[i:i+5].values))\n",
    "    features_filtered_direct = extract_relevant_features(X_df.loc[:, cols], pd.Series(y),\n",
    "                                                     column_id='id', n_jobs=14)\n",
    "    features_filtered_direct.to_csv(ml_path + '/tsfresh_features_' + str(i) + '_' + file_label + '.csv')"
   ]
  }
 ],
 "metadata": {
  "kernelspec": {
   "display_name": "Python [conda env:timeseriesai] *",
   "language": "python",
   "name": "conda-env-timeseriesai-py"
  },
  "language_info": {
   "codemirror_mode": {
    "name": "ipython",
    "version": 3
   },
   "file_extension": ".py",
   "mimetype": "text/x-python",
   "name": "python",
   "nbconvert_exporter": "python",
   "pygments_lexer": "ipython3",
   "version": "3.8.5"
  }
 },
 "nbformat": 4,
 "nbformat_minor": 4
}
