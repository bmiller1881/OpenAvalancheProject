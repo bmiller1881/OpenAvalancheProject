{
 "cells": [
  {
   "cell_type": "code",
   "execution_count": 1,
   "metadata": {},
   "outputs": [],
   "source": [
    "%reload_ext autoreload\n",
    "%autoreload 2\n",
    "%matplotlib inline"
   ]
  },
  {
   "cell_type": "code",
   "execution_count": 2,
   "metadata": {},
   "outputs": [],
   "source": [
    "import tsai\n",
    "from tsai.all import *\n",
    "from joblib import Parallel, delayed"
   ]
  },
  {
   "cell_type": "code",
   "execution_count": 3,
   "metadata": {},
   "outputs": [],
   "source": [
    "data_root = '/media/scottcha/E1/Data/OAPMLData/'\n",
    "ml_path = data_root + '/5.MLData/'\n",
    "num_features = 978\n",
    "interpolation = 1\n",
    "file_label = 'co_Day1DangerAboveTreeline_small'\n",
    "label = 'Day1DangerAboveTreeline'"
   ]
  },
  {
   "cell_type": "code",
   "execution_count": 4,
   "metadata": {},
   "outputs": [],
   "source": [
    "def calculate_feature_mean(feature):\n",
    "    print('On feature: ' + str(feature))\n",
    "    return np.nanmean(X[0:5000,feature,:])\n",
    "\n",
    "def calculate_feature_std(feature):\n",
    "    print('On feature: ' + str(feature))\n",
    "    return np.nanstd(X[0:5000,feature,:])\n",
    "\n",
    "#method to standardize each batch while also replacing any nans with the mean value before standarization\n",
    "class TSStandardizeNanMeanReplaceNan(Transform):\n",
    "    \"Standardize/destd batch of `NumpyTensor` or `TSTensor`\"\n",
    "    parameters, order = L('mean', 'std'), 99\n",
    "    def __init__(self, mean=None, std=None, by_sample=False, by_var=False, verbose=False):\n",
    "        self.mean = tensor(mean) if mean is not None else None\n",
    "        self.std = tensor(std) if std is not None else None\n",
    "        self.by_sample, self.by_var = by_sample, by_var\n",
    "        if by_sample and by_var: self.axes = (2)\n",
    "        elif by_sample: self.axes = (1, 2)\n",
    "        elif by_var: self.axes = (0, 2)\n",
    "        else: self.axes = ()\n",
    "        self.verbose = verbose\n",
    "\n",
    "    @classmethod\n",
    "    def from_stats(cls, mean, std): return cls(mean, std)\n",
    "\n",
    "    def setups(self, dl: DataLoader):\n",
    "        if self.mean is None or self.std is None:\n",
    "            pv(f'{self.__class__.__name__} setup mean={self.mean}, std={self.std}, by_sample={self.by_sample}, by_var={self.by_var}', self.verbose)\n",
    "            x, *_ = dl.one_batch()\n",
    "            x = torch.where(torch.isnan(x), torch.zeros_like(x), x)\n",
    "            self.mean, self.std = x.mean(self.axes, keepdim=self.axes!=()), x.std(self.axes, keepdim=self.axes!=()) + 1e-7\n",
    "            pv(f'mean: {self.mean}  std: {self.std}\\n', self.verbose)\n",
    "\n",
    "    def encodes(self, x:(NumpyTensor, TSTensor)):\n",
    "        fill_values = torch.zeros_like(x)\n",
    "        std_values = torch.zeros_like(x)       \n",
    "        for i in range(0,x.shape[1]):\n",
    "            fill_values[:,i,:] = torch.full_like(x[:,i,:], feature_means[i])\n",
    "            std_values[:,i,:] = torch.full_like(x[:,i,:], feature_std[i])\n",
    "        \n",
    "        x = torch.where(torch.isnan(x), fill_values, x)\n",
    "       \n",
    "        if self.by_sample:        \n",
    "            self.mean, self.std = x.mean(self.axes, keepdim=self.axes!=()), x.std(self.axes, keepdim=self.axes!=()) + 1e-7\n",
    "            \n",
    "        t = (x - fill_values) / std_values\n",
    "        del fill_values, std_values\n",
    "        return torch.where(torch.isnan(t), torch.zeros_like(t), t)"
   ]
  },
  {
   "cell_type": "code",
   "execution_count": 5,
   "metadata": {},
   "outputs": [],
   "source": [
    "means_fn = ml_path + '/feature_means_interpolation' + str(interpolation) + '_' + file_label + 'x.npy'\n",
    "std_fn = ml_path + '/feature_std_interpolation' + str(interpolation)  + '_' + file_label +   'x.npy'"
   ]
  },
  {
   "cell_type": "code",
   "execution_count": 6,
   "metadata": {},
   "outputs": [],
   "source": [
    "#load the X train data from numpy as memmapped file\n",
    "X = np.load(ml_path + '/Xtrain_batch_0_' + file_label + '_on_disk.npy', mmap_mode='r')"
   ]
  },
  {
   "cell_type": "code",
   "execution_count": 7,
   "metadata": {},
   "outputs": [],
   "source": [
    "#if we don't have cached versions of these we need to calcualte this for the feature\n",
    "#standardization, this takes awhile and requires a lot of memory so I only do it on a subset\n",
    "#of the data (first 100000 rows)\n",
    "feature_means = Parallel(n_jobs=4)(map(delayed(calculate_feature_mean), range(0,num_features)))\n",
    "feature_std = Parallel(n_jobs=4)(map(delayed(calculate_feature_std), range(0,num_features)))"
   ]
  },
  {
   "cell_type": "code",
   "execution_count": 8,
   "metadata": {},
   "outputs": [],
   "source": [
    "#cache the values\n",
    "np.save(means_fn, np.asarray(feature_means))\n",
    "np.save(std_fn, np.asarray(feature_std))"
   ]
  },
  {
   "cell_type": "code",
   "execution_count": 6,
   "metadata": {},
   "outputs": [],
   "source": [
    "#load the values\n",
    "feature_means = np.load(means_fn)\n",
    "feature_std = np.load(std_fn)"
   ]
  },
  {
   "cell_type": "code",
   "execution_count": 7,
   "metadata": {},
   "outputs": [],
   "source": [
    "#load the full X datafile which has both Train and Test concated\n",
    "X = np.load(ml_path + '/X_all_' + file_label + '.npy', mmap_mode='r')"
   ]
  },
  {
   "cell_type": "code",
   "execution_count": 8,
   "metadata": {},
   "outputs": [],
   "source": [
    "X = X[:,:,-30:]"
   ]
  },
  {
   "cell_type": "code",
   "execution_count": 9,
   "metadata": {},
   "outputs": [],
   "source": [
    "#read in the corresponding label files and concat them\n",
    "#can get the right values here based on the contents of hte ml_path directory\n",
    "i=0\n",
    "\n",
    "\n",
    "y_df = None\n",
    "\n",
    "df = pd.read_parquet(ml_path + '/y_train_batch_' + str(i) + '_' + file_label + '.parquet')  \n",
    "y_df = pd.concat([y_df, df])\n",
    "\n",
    "df = pd.read_parquet(ml_path + '/y_test_batch_' + str(i) + '_' + file_label + '.parquet')  \n",
    "y_df = pd.concat([y_df, df])\n",
    "\n",
    "y_df = y_df.reset_index(drop=True)"
   ]
  },
  {
   "cell_type": "code",
   "execution_count": 10,
   "metadata": {},
   "outputs": [
    {
     "data": {
      "text/plain": [
       "{0: 'Low', 1: 'Moderate', 2: 'Considerable', 3: 'High'}"
      ]
     },
     "execution_count": 10,
     "metadata": {},
     "output_type": "execute_result"
    }
   ],
   "source": [
    "y_df_filtered = y_df[y_df[label].isin(['Low', 'Moderate', 'Considerable', 'High'])]\n",
    "#convert the labels to encoded values\n",
    "from pandas.api.types import CategoricalDtype\n",
    "cat_type = CategoricalDtype(categories=[\"Low\", \"Moderate\", \"Considerable\", 'High'], ordered=True)\n",
    "y_df[label + '_Cat'] = y_df[label].astype(cat_type)\n",
    "y_train_df = y_df_filtered[y_df_filtered['parsed_date'] < np.datetime64('2018-11-01')]\n",
    "y_test_df = y_df_filtered[y_df_filtered['parsed_date'] >= np.datetime64('2018-11-01')]\n",
    "y = y_df[label + '_Cat'].cat.codes.values\n",
    "\n",
    "dict( enumerate(y_df[label + '_Cat'].cat.categories ) )"
   ]
  },
  {
   "cell_type": "code",
   "execution_count": 11,
   "metadata": {},
   "outputs": [
    {
     "data": {
      "text/html": [
       "<div>\n",
       "<style scoped>\n",
       "    .dataframe tbody tr th:only-of-type {\n",
       "        vertical-align: middle;\n",
       "    }\n",
       "\n",
       "    .dataframe tbody tr th {\n",
       "        vertical-align: top;\n",
       "    }\n",
       "\n",
       "    .dataframe thead th {\n",
       "        text-align: right;\n",
       "    }\n",
       "</style>\n",
       "<table border=\"1\" class=\"dataframe\">\n",
       "  <thead>\n",
       "    <tr style=\"text-align: right;\">\n",
       "      <th></th>\n",
       "      <th>sample</th>\n",
       "      <th>latitude</th>\n",
       "      <th>longitude</th>\n",
       "      <th>UnifiedRegion</th>\n",
       "      <th>UnifiedRegionleft</th>\n",
       "      <th>Unnamed: 0</th>\n",
       "      <th>BottomLineSummary</th>\n",
       "      <th>Cornices_Likelihood</th>\n",
       "      <th>Cornices_MaximumSize</th>\n",
       "      <th>Cornices_MinimumSize</th>\n",
       "      <th>...</th>\n",
       "      <th>WindSlab_OctagonNearTreelineSouthEast</th>\n",
       "      <th>WindSlab_OctagonNearTreelineSouthWest</th>\n",
       "      <th>WindSlab_OctagonNearTreelineWest</th>\n",
       "      <th>image_paths</th>\n",
       "      <th>image_types</th>\n",
       "      <th>image_urls</th>\n",
       "      <th>rose_url</th>\n",
       "      <th>parsed_date</th>\n",
       "      <th>season</th>\n",
       "      <th>Day1DangerAboveTreeline_Cat</th>\n",
       "    </tr>\n",
       "  </thead>\n",
       "  <tbody>\n",
       "    <tr>\n",
       "      <th>0</th>\n",
       "      <td>2015-11-14 00:00:00: Grand Mesa Zone</td>\n",
       "      <td>39.00</td>\n",
       "      <td>-107.50</td>\n",
       "      <td>Grand Mesa Zone</td>\n",
       "      <td>Grand Mesa Zone</td>\n",
       "      <td>16686</td>\n",
       "      <td>no-data</td>\n",
       "      <td>no-data</td>\n",
       "      <td>no-data</td>\n",
       "      <td>no-data</td>\n",
       "      <td>...</td>\n",
       "      <td>no-data</td>\n",
       "      <td>no-data</td>\n",
       "      <td>no-data</td>\n",
       "      <td>no-data</td>\n",
       "      <td>no-data</td>\n",
       "      <td>no-data</td>\n",
       "      <td>no-data</td>\n",
       "      <td>2015-11-14</td>\n",
       "      <td>15-16</td>\n",
       "      <td>NaN</td>\n",
       "    </tr>\n",
       "    <tr>\n",
       "      <th>1</th>\n",
       "      <td>2015-11-14 00:00:00: Grand Mesa Zone</td>\n",
       "      <td>39.25</td>\n",
       "      <td>-108.25</td>\n",
       "      <td>Grand Mesa Zone</td>\n",
       "      <td>Grand Mesa Zone</td>\n",
       "      <td>16686</td>\n",
       "      <td>no-data</td>\n",
       "      <td>no-data</td>\n",
       "      <td>no-data</td>\n",
       "      <td>no-data</td>\n",
       "      <td>...</td>\n",
       "      <td>no-data</td>\n",
       "      <td>no-data</td>\n",
       "      <td>no-data</td>\n",
       "      <td>no-data</td>\n",
       "      <td>no-data</td>\n",
       "      <td>no-data</td>\n",
       "      <td>no-data</td>\n",
       "      <td>2015-11-14</td>\n",
       "      <td>15-16</td>\n",
       "      <td>NaN</td>\n",
       "    </tr>\n",
       "    <tr>\n",
       "      <th>2</th>\n",
       "      <td>2015-11-14 00:00:00: Gunnison Zone</td>\n",
       "      <td>38.75</td>\n",
       "      <td>-107.50</td>\n",
       "      <td>Gunnison Zone</td>\n",
       "      <td>Gunnison Zone</td>\n",
       "      <td>16688</td>\n",
       "      <td>no-data</td>\n",
       "      <td>no-data</td>\n",
       "      <td>no-data</td>\n",
       "      <td>no-data</td>\n",
       "      <td>...</td>\n",
       "      <td>no-data</td>\n",
       "      <td>no-data</td>\n",
       "      <td>no-data</td>\n",
       "      <td>no-data</td>\n",
       "      <td>no-data</td>\n",
       "      <td>no-data</td>\n",
       "      <td>no-data</td>\n",
       "      <td>2015-11-14</td>\n",
       "      <td>15-16</td>\n",
       "      <td>Moderate</td>\n",
       "    </tr>\n",
       "    <tr>\n",
       "      <th>3</th>\n",
       "      <td>2015-11-15 00:00:00: Grand Mesa Zone</td>\n",
       "      <td>39.25</td>\n",
       "      <td>-108.00</td>\n",
       "      <td>Grand Mesa Zone</td>\n",
       "      <td>Grand Mesa Zone</td>\n",
       "      <td>16698</td>\n",
       "      <td>no-data</td>\n",
       "      <td>no-data</td>\n",
       "      <td>no-data</td>\n",
       "      <td>no-data</td>\n",
       "      <td>...</td>\n",
       "      <td>no-data</td>\n",
       "      <td>no-data</td>\n",
       "      <td>no-data</td>\n",
       "      <td>no-data</td>\n",
       "      <td>no-data</td>\n",
       "      <td>no-data</td>\n",
       "      <td>no-data</td>\n",
       "      <td>2015-11-15</td>\n",
       "      <td>15-16</td>\n",
       "      <td>NaN</td>\n",
       "    </tr>\n",
       "    <tr>\n",
       "      <th>4</th>\n",
       "      <td>2015-11-15 00:00:00: Grand Mesa Zone</td>\n",
       "      <td>39.25</td>\n",
       "      <td>-107.75</td>\n",
       "      <td>Grand Mesa Zone</td>\n",
       "      <td>Grand Mesa Zone</td>\n",
       "      <td>16698</td>\n",
       "      <td>no-data</td>\n",
       "      <td>no-data</td>\n",
       "      <td>no-data</td>\n",
       "      <td>no-data</td>\n",
       "      <td>...</td>\n",
       "      <td>no-data</td>\n",
       "      <td>no-data</td>\n",
       "      <td>no-data</td>\n",
       "      <td>no-data</td>\n",
       "      <td>no-data</td>\n",
       "      <td>no-data</td>\n",
       "      <td>no-data</td>\n",
       "      <td>2015-11-15</td>\n",
       "      <td>15-16</td>\n",
       "      <td>NaN</td>\n",
       "    </tr>\n",
       "  </tbody>\n",
       "</table>\n",
       "<p>5 rows × 303 columns</p>\n",
       "</div>"
      ],
      "text/plain": [
       "                                 sample  latitude  longitude    UnifiedRegion  \\\n",
       "0  2015-11-14 00:00:00: Grand Mesa Zone     39.00    -107.50  Grand Mesa Zone   \n",
       "1  2015-11-14 00:00:00: Grand Mesa Zone     39.25    -108.25  Grand Mesa Zone   \n",
       "2    2015-11-14 00:00:00: Gunnison Zone     38.75    -107.50    Gunnison Zone   \n",
       "3  2015-11-15 00:00:00: Grand Mesa Zone     39.25    -108.00  Grand Mesa Zone   \n",
       "4  2015-11-15 00:00:00: Grand Mesa Zone     39.25    -107.75  Grand Mesa Zone   \n",
       "\n",
       "  UnifiedRegionleft  Unnamed: 0 BottomLineSummary Cornices_Likelihood  \\\n",
       "0   Grand Mesa Zone       16686           no-data             no-data   \n",
       "1   Grand Mesa Zone       16686           no-data             no-data   \n",
       "2     Gunnison Zone       16688           no-data             no-data   \n",
       "3   Grand Mesa Zone       16698           no-data             no-data   \n",
       "4   Grand Mesa Zone       16698           no-data             no-data   \n",
       "\n",
       "  Cornices_MaximumSize Cornices_MinimumSize  ...  \\\n",
       "0              no-data              no-data  ...   \n",
       "1              no-data              no-data  ...   \n",
       "2              no-data              no-data  ...   \n",
       "3              no-data              no-data  ...   \n",
       "4              no-data              no-data  ...   \n",
       "\n",
       "  WindSlab_OctagonNearTreelineSouthEast WindSlab_OctagonNearTreelineSouthWest  \\\n",
       "0                               no-data                               no-data   \n",
       "1                               no-data                               no-data   \n",
       "2                               no-data                               no-data   \n",
       "3                               no-data                               no-data   \n",
       "4                               no-data                               no-data   \n",
       "\n",
       "  WindSlab_OctagonNearTreelineWest image_paths image_types image_urls  \\\n",
       "0                          no-data     no-data     no-data    no-data   \n",
       "1                          no-data     no-data     no-data    no-data   \n",
       "2                          no-data     no-data     no-data    no-data   \n",
       "3                          no-data     no-data     no-data    no-data   \n",
       "4                          no-data     no-data     no-data    no-data   \n",
       "\n",
       "  rose_url parsed_date season Day1DangerAboveTreeline_Cat  \n",
       "0  no-data  2015-11-14  15-16                         NaN  \n",
       "1  no-data  2015-11-14  15-16                         NaN  \n",
       "2  no-data  2015-11-14  15-16                    Moderate  \n",
       "3  no-data  2015-11-15  15-16                         NaN  \n",
       "4  no-data  2015-11-15  15-16                         NaN  \n",
       "\n",
       "[5 rows x 303 columns]"
      ]
     },
     "execution_count": 11,
     "metadata": {},
     "output_type": "execute_result"
    }
   ],
   "source": [
    "y_df.head()\n"
   ]
  },
  {
   "cell_type": "code",
   "execution_count": 12,
   "metadata": {},
   "outputs": [],
   "source": [
    "#index file which indicates which rows in X are train or test\n",
    "#be carful these don't overlap\n",
    "\n",
    "#can use a smaller train subset to make development faster\n",
    "splits = (L([i for i in y_train_df.index]).shuffle(), L([i for i in y_test_df.index]).shuffle())"
   ]
  },
  {
   "cell_type": "code",
   "execution_count": 13,
   "metadata": {},
   "outputs": [
    {
     "data": {
      "text/plain": [
       "((#3988) [2274,1472,4147,2940,3391,1820,1680,4920,3195,1324...],\n",
       " (#800) [5207,5440,5517,5691,5343,5898,5301,5621,5027,5135...])"
      ]
     },
     "execution_count": 13,
     "metadata": {},
     "output_type": "execute_result"
    }
   ],
   "source": [
    "splits"
   ]
  },
  {
   "cell_type": "code",
   "execution_count": 14,
   "metadata": {},
   "outputs": [],
   "source": [
    "#load and check the means and std deviations\n",
    "feature_means = (np.nan_to_num(feature_means))\n",
    "assert np.isnan(feature_means).any() == False\n",
    "feature_std = (np.nan_to_num(feature_std, nan=1.0))\n",
    "assert np.isnan(feature_std).any() == False"
   ]
  },
  {
   "cell_type": "code",
   "execution_count": 15,
   "metadata": {},
   "outputs": [],
   "source": [
    "tfms = [None, [Categorize()]]\n",
    "batch_tfms=[TSStandardizeNanMeanReplaceNan()]"
   ]
  },
  {
   "cell_type": "code",
   "execution_count": 16,
   "metadata": {},
   "outputs": [
    {
     "data": {
      "text/plain": [
       "(6000, 978, 30)"
      ]
     },
     "execution_count": 16,
     "metadata": {},
     "output_type": "execute_result"
    }
   ],
   "source": [
    "X.shape"
   ]
  },
  {
   "cell_type": "code",
   "execution_count": 17,
   "metadata": {},
   "outputs": [],
   "source": [
    "X = X[splits[0]+splits[1]]\n",
    "y = y[splits[0]+splits[1]]"
   ]
  },
  {
   "cell_type": "code",
   "execution_count": 18,
   "metadata": {},
   "outputs": [],
   "source": [
    "#index file which indicates which rows in X are train or test\n",
    "#be carful these don't overlap\n",
    "train_test_split = 3988\n",
    "num_y = 800\n",
    "#can use a smaller train subset to make development faster\n",
    "splits_2 = (L([i for i in range(0,train_test_split)]).shuffle(), L([i for i in range(train_test_split,train_test_split+num_y)]).shuffle())"
   ]
  },
  {
   "cell_type": "code",
   "execution_count": 19,
   "metadata": {},
   "outputs": [
    {
     "data": {
      "text/plain": [
       "((#3988) [1016,2725,2947,932,3533,604,2131,785,2132,3453...],\n",
       " (#800) [4767,4544,4003,4341,4143,4217,4616,3996,4308,4774...])"
      ]
     },
     "execution_count": 19,
     "metadata": {},
     "output_type": "execute_result"
    }
   ],
   "source": [
    "splits_2"
   ]
  },
  {
   "cell_type": "code",
   "execution_count": 20,
   "metadata": {},
   "outputs": [
    {
     "data": {
      "text/plain": [
       "(4788, 978, 30)"
      ]
     },
     "execution_count": 20,
     "metadata": {},
     "output_type": "execute_result"
    }
   ],
   "source": [
    "X.shape"
   ]
  },
  {
   "cell_type": "code",
   "execution_count": 21,
   "metadata": {},
   "outputs": [
    {
     "data": {
      "text/plain": [
       "(4788,)"
      ]
     },
     "execution_count": 21,
     "metadata": {},
     "output_type": "execute_result"
    }
   ],
   "source": [
    "y.shape"
   ]
  },
  {
   "cell_type": "code",
   "execution_count": 22,
   "metadata": {},
   "outputs": [],
   "source": [
    "dls = get_ts_dls(X, y, splits=splits_2, tfms=tfms, shuffle_train=False, batch_tfms=batch_tfms)"
   ]
  },
  {
   "cell_type": "code",
   "execution_count": 23,
   "metadata": {},
   "outputs": [],
   "source": [
    "model = build_ts_model(ROCKET, dls=dls) "
   ]
  },
  {
   "cell_type": "code",
   "execution_count": 24,
   "metadata": {},
   "outputs": [
    {
     "data": {
      "text/html": [
       "\n",
       "    <div>\n",
       "        <style>\n",
       "            /* Turns off some styling */\n",
       "            progress {\n",
       "                /* gets rid of default border in Firefox and Opera. */\n",
       "                border: none;\n",
       "                /* Needs to be in here for Safari polyfill so background images work as expected. */\n",
       "                background-size: auto;\n",
       "            }\n",
       "            .progress-bar-interrupted, .progress-bar-interrupted::-webkit-progress-bar {\n",
       "                background: #F44336;\n",
       "            }\n",
       "        </style>\n",
       "      <progress value='62' class='' max='62' style='width:300px; height:20px; vertical-align: middle;'></progress>\n",
       "      100.00% [62/62 07:52<00:00 batch/batches]\n",
       "    </div>\n",
       "    "
      ],
      "text/plain": [
       "<IPython.core.display.HTML object>"
      ]
     },
     "metadata": {},
     "output_type": "display_data"
    },
    {
     "data": {
      "text/html": [],
      "text/plain": [
       "<IPython.core.display.HTML object>"
      ]
     },
     "metadata": {},
     "output_type": "display_data"
    },
    {
     "data": {
      "text/html": [],
      "text/plain": [
       "<IPython.core.display.HTML object>"
      ]
     },
     "metadata": {},
     "output_type": "display_data"
    },
    {
     "data": {
      "text/html": [],
      "text/plain": [
       "<IPython.core.display.HTML object>"
      ]
     },
     "metadata": {},
     "output_type": "display_data"
    },
    {
     "data": {
      "text/html": [],
      "text/plain": [
       "<IPython.core.display.HTML object>"
      ]
     },
     "metadata": {},
     "output_type": "display_data"
    },
    {
     "data": {
      "text/html": [],
      "text/plain": [
       "<IPython.core.display.HTML object>"
      ]
     },
     "metadata": {},
     "output_type": "display_data"
    },
    {
     "data": {
      "text/html": [],
      "text/plain": [
       "<IPython.core.display.HTML object>"
      ]
     },
     "metadata": {},
     "output_type": "display_data"
    },
    {
     "data": {
      "text/html": [],
      "text/plain": [
       "<IPython.core.display.HTML object>"
      ]
     },
     "metadata": {},
     "output_type": "display_data"
    },
    {
     "data": {
      "text/html": [],
      "text/plain": [
       "<IPython.core.display.HTML object>"
      ]
     },
     "metadata": {},
     "output_type": "display_data"
    },
    {
     "data": {
      "text/html": [],
      "text/plain": [
       "<IPython.core.display.HTML object>"
      ]
     },
     "metadata": {},
     "output_type": "display_data"
    },
    {
     "data": {
      "text/html": [],
      "text/plain": [
       "<IPython.core.display.HTML object>"
      ]
     },
     "metadata": {},
     "output_type": "display_data"
    },
    {
     "data": {
      "text/html": [],
      "text/plain": [
       "<IPython.core.display.HTML object>"
      ]
     },
     "metadata": {},
     "output_type": "display_data"
    },
    {
     "data": {
      "text/html": [],
      "text/plain": [
       "<IPython.core.display.HTML object>"
      ]
     },
     "metadata": {},
     "output_type": "display_data"
    },
    {
     "data": {
      "text/html": [],
      "text/plain": [
       "<IPython.core.display.HTML object>"
      ]
     },
     "metadata": {},
     "output_type": "display_data"
    },
    {
     "data": {
      "text/html": [],
      "text/plain": [
       "<IPython.core.display.HTML object>"
      ]
     },
     "metadata": {},
     "output_type": "display_data"
    },
    {
     "data": {
      "text/html": [],
      "text/plain": [
       "<IPython.core.display.HTML object>"
      ]
     },
     "metadata": {},
     "output_type": "display_data"
    },
    {
     "data": {
      "text/html": [],
      "text/plain": [
       "<IPython.core.display.HTML object>"
      ]
     },
     "metadata": {},
     "output_type": "display_data"
    },
    {
     "data": {
      "text/html": [],
      "text/plain": [
       "<IPython.core.display.HTML object>"
      ]
     },
     "metadata": {},
     "output_type": "display_data"
    },
    {
     "data": {
      "text/html": [],
      "text/plain": [
       "<IPython.core.display.HTML object>"
      ]
     },
     "metadata": {},
     "output_type": "display_data"
    },
    {
     "data": {
      "text/html": [],
      "text/plain": [
       "<IPython.core.display.HTML object>"
      ]
     },
     "metadata": {},
     "output_type": "display_data"
    },
    {
     "data": {
      "text/html": [],
      "text/plain": [
       "<IPython.core.display.HTML object>"
      ]
     },
     "metadata": {},
     "output_type": "display_data"
    },
    {
     "data": {
      "text/html": [],
      "text/plain": [
       "<IPython.core.display.HTML object>"
      ]
     },
     "metadata": {},
     "output_type": "display_data"
    },
    {
     "data": {
      "text/html": [],
      "text/plain": [
       "<IPython.core.display.HTML object>"
      ]
     },
     "metadata": {},
     "output_type": "display_data"
    },
    {
     "data": {
      "text/html": [],
      "text/plain": [
       "<IPython.core.display.HTML object>"
      ]
     },
     "metadata": {},
     "output_type": "display_data"
    },
    {
     "data": {
      "text/html": [],
      "text/plain": [
       "<IPython.core.display.HTML object>"
      ]
     },
     "metadata": {},
     "output_type": "display_data"
    },
    {
     "data": {
      "text/html": [],
      "text/plain": [
       "<IPython.core.display.HTML object>"
      ]
     },
     "metadata": {},
     "output_type": "display_data"
    },
    {
     "data": {
      "text/html": [],
      "text/plain": [
       "<IPython.core.display.HTML object>"
      ]
     },
     "metadata": {},
     "output_type": "display_data"
    },
    {
     "data": {
      "text/html": [],
      "text/plain": [
       "<IPython.core.display.HTML object>"
      ]
     },
     "metadata": {},
     "output_type": "display_data"
    },
    {
     "data": {
      "text/html": [],
      "text/plain": [
       "<IPython.core.display.HTML object>"
      ]
     },
     "metadata": {},
     "output_type": "display_data"
    },
    {
     "data": {
      "text/html": [],
      "text/plain": [
       "<IPython.core.display.HTML object>"
      ]
     },
     "metadata": {},
     "output_type": "display_data"
    },
    {
     "data": {
      "text/html": [],
      "text/plain": [
       "<IPython.core.display.HTML object>"
      ]
     },
     "metadata": {},
     "output_type": "display_data"
    },
    {
     "data": {
      "text/html": [],
      "text/plain": [
       "<IPython.core.display.HTML object>"
      ]
     },
     "metadata": {},
     "output_type": "display_data"
    },
    {
     "data": {
      "text/html": [],
      "text/plain": [
       "<IPython.core.display.HTML object>"
      ]
     },
     "metadata": {},
     "output_type": "display_data"
    },
    {
     "data": {
      "text/html": [],
      "text/plain": [
       "<IPython.core.display.HTML object>"
      ]
     },
     "metadata": {},
     "output_type": "display_data"
    },
    {
     "data": {
      "text/html": [],
      "text/plain": [
       "<IPython.core.display.HTML object>"
      ]
     },
     "metadata": {},
     "output_type": "display_data"
    },
    {
     "data": {
      "text/html": [],
      "text/plain": [
       "<IPython.core.display.HTML object>"
      ]
     },
     "metadata": {},
     "output_type": "display_data"
    },
    {
     "data": {
      "text/html": [],
      "text/plain": [
       "<IPython.core.display.HTML object>"
      ]
     },
     "metadata": {},
     "output_type": "display_data"
    },
    {
     "data": {
      "text/html": [],
      "text/plain": [
       "<IPython.core.display.HTML object>"
      ]
     },
     "metadata": {},
     "output_type": "display_data"
    },
    {
     "data": {
      "text/html": [],
      "text/plain": [
       "<IPython.core.display.HTML object>"
      ]
     },
     "metadata": {},
     "output_type": "display_data"
    },
    {
     "data": {
      "text/html": [],
      "text/plain": [
       "<IPython.core.display.HTML object>"
      ]
     },
     "metadata": {},
     "output_type": "display_data"
    },
    {
     "data": {
      "text/html": [],
      "text/plain": [
       "<IPython.core.display.HTML object>"
      ]
     },
     "metadata": {},
     "output_type": "display_data"
    },
    {
     "data": {
      "text/html": [],
      "text/plain": [
       "<IPython.core.display.HTML object>"
      ]
     },
     "metadata": {},
     "output_type": "display_data"
    },
    {
     "data": {
      "text/html": [],
      "text/plain": [
       "<IPython.core.display.HTML object>"
      ]
     },
     "metadata": {},
     "output_type": "display_data"
    },
    {
     "data": {
      "text/html": [],
      "text/plain": [
       "<IPython.core.display.HTML object>"
      ]
     },
     "metadata": {},
     "output_type": "display_data"
    },
    {
     "data": {
      "text/html": [],
      "text/plain": [
       "<IPython.core.display.HTML object>"
      ]
     },
     "metadata": {},
     "output_type": "display_data"
    },
    {
     "data": {
      "text/html": [],
      "text/plain": [
       "<IPython.core.display.HTML object>"
      ]
     },
     "metadata": {},
     "output_type": "display_data"
    },
    {
     "data": {
      "text/html": [],
      "text/plain": [
       "<IPython.core.display.HTML object>"
      ]
     },
     "metadata": {},
     "output_type": "display_data"
    },
    {
     "data": {
      "text/html": [],
      "text/plain": [
       "<IPython.core.display.HTML object>"
      ]
     },
     "metadata": {},
     "output_type": "display_data"
    },
    {
     "data": {
      "text/html": [],
      "text/plain": [
       "<IPython.core.display.HTML object>"
      ]
     },
     "metadata": {},
     "output_type": "display_data"
    },
    {
     "data": {
      "text/html": [],
      "text/plain": [
       "<IPython.core.display.HTML object>"
      ]
     },
     "metadata": {},
     "output_type": "display_data"
    },
    {
     "data": {
      "text/html": [],
      "text/plain": [
       "<IPython.core.display.HTML object>"
      ]
     },
     "metadata": {},
     "output_type": "display_data"
    },
    {
     "data": {
      "text/html": [],
      "text/plain": [
       "<IPython.core.display.HTML object>"
      ]
     },
     "metadata": {},
     "output_type": "display_data"
    },
    {
     "data": {
      "text/html": [],
      "text/plain": [
       "<IPython.core.display.HTML object>"
      ]
     },
     "metadata": {},
     "output_type": "display_data"
    },
    {
     "data": {
      "text/html": [],
      "text/plain": [
       "<IPython.core.display.HTML object>"
      ]
     },
     "metadata": {},
     "output_type": "display_data"
    },
    {
     "data": {
      "text/html": [],
      "text/plain": [
       "<IPython.core.display.HTML object>"
      ]
     },
     "metadata": {},
     "output_type": "display_data"
    },
    {
     "data": {
      "text/html": [],
      "text/plain": [
       "<IPython.core.display.HTML object>"
      ]
     },
     "metadata": {},
     "output_type": "display_data"
    },
    {
     "data": {
      "text/html": [],
      "text/plain": [
       "<IPython.core.display.HTML object>"
      ]
     },
     "metadata": {},
     "output_type": "display_data"
    },
    {
     "data": {
      "text/html": [],
      "text/plain": [
       "<IPython.core.display.HTML object>"
      ]
     },
     "metadata": {},
     "output_type": "display_data"
    },
    {
     "data": {
      "text/html": [],
      "text/plain": [
       "<IPython.core.display.HTML object>"
      ]
     },
     "metadata": {},
     "output_type": "display_data"
    },
    {
     "data": {
      "text/html": [],
      "text/plain": [
       "<IPython.core.display.HTML object>"
      ]
     },
     "metadata": {},
     "output_type": "display_data"
    },
    {
     "data": {
      "text/html": [],
      "text/plain": [
       "<IPython.core.display.HTML object>"
      ]
     },
     "metadata": {},
     "output_type": "display_data"
    },
    {
     "data": {
      "text/html": [],
      "text/plain": [
       "<IPython.core.display.HTML object>"
      ]
     },
     "metadata": {},
     "output_type": "display_data"
    },
    {
     "data": {
      "text/html": [],
      "text/plain": [
       "<IPython.core.display.HTML object>"
      ]
     },
     "metadata": {},
     "output_type": "display_data"
    },
    {
     "data": {
      "text/html": [
       "\n",
       "    <div>\n",
       "        <style>\n",
       "            /* Turns off some styling */\n",
       "            progress {\n",
       "                /* gets rid of default border in Firefox and Opera. */\n",
       "                border: none;\n",
       "                /* Needs to be in here for Safari polyfill so background images work as expected. */\n",
       "                background-size: auto;\n",
       "            }\n",
       "            .progress-bar-interrupted, .progress-bar-interrupted::-webkit-progress-bar {\n",
       "                background: #F44336;\n",
       "            }\n",
       "        </style>\n",
       "      <progress value='12' class='' max='12' style='width:300px; height:20px; vertical-align: middle;'></progress>\n",
       "      100.00% [12/12 01:31<00:00 batch/batches]\n",
       "    </div>\n",
       "    "
      ],
      "text/plain": [
       "<IPython.core.display.HTML object>"
      ]
     },
     "metadata": {},
     "output_type": "display_data"
    },
    {
     "data": {
      "text/html": [],
      "text/plain": [
       "<IPython.core.display.HTML object>"
      ]
     },
     "metadata": {},
     "output_type": "display_data"
    },
    {
     "data": {
      "text/html": [],
      "text/plain": [
       "<IPython.core.display.HTML object>"
      ]
     },
     "metadata": {},
     "output_type": "display_data"
    },
    {
     "data": {
      "text/html": [],
      "text/plain": [
       "<IPython.core.display.HTML object>"
      ]
     },
     "metadata": {},
     "output_type": "display_data"
    },
    {
     "data": {
      "text/html": [],
      "text/plain": [
       "<IPython.core.display.HTML object>"
      ]
     },
     "metadata": {},
     "output_type": "display_data"
    },
    {
     "data": {
      "text/html": [],
      "text/plain": [
       "<IPython.core.display.HTML object>"
      ]
     },
     "metadata": {},
     "output_type": "display_data"
    },
    {
     "data": {
      "text/html": [],
      "text/plain": [
       "<IPython.core.display.HTML object>"
      ]
     },
     "metadata": {},
     "output_type": "display_data"
    },
    {
     "data": {
      "text/html": [],
      "text/plain": [
       "<IPython.core.display.HTML object>"
      ]
     },
     "metadata": {},
     "output_type": "display_data"
    },
    {
     "data": {
      "text/html": [],
      "text/plain": [
       "<IPython.core.display.HTML object>"
      ]
     },
     "metadata": {},
     "output_type": "display_data"
    },
    {
     "data": {
      "text/html": [],
      "text/plain": [
       "<IPython.core.display.HTML object>"
      ]
     },
     "metadata": {},
     "output_type": "display_data"
    },
    {
     "data": {
      "text/html": [],
      "text/plain": [
       "<IPython.core.display.HTML object>"
      ]
     },
     "metadata": {},
     "output_type": "display_data"
    },
    {
     "data": {
      "text/html": [],
      "text/plain": [
       "<IPython.core.display.HTML object>"
      ]
     },
     "metadata": {},
     "output_type": "display_data"
    },
    {
     "data": {
      "text/html": [],
      "text/plain": [
       "<IPython.core.display.HTML object>"
      ]
     },
     "metadata": {},
     "output_type": "display_data"
    },
    {
     "data": {
      "text/plain": [
       "((3968, 20000), (768, 20000))"
      ]
     },
     "execution_count": 24,
     "metadata": {},
     "output_type": "execute_result"
    }
   ],
   "source": [
    "X_train, y_train = create_rocket_features(dls.train, model)\n",
    "X_valid, y_valid = create_rocket_features(dls.valid, model)\n",
    "X_train.shape, X_valid.shape"
   ]
  },
  {
   "cell_type": "code",
   "execution_count": 25,
   "metadata": {},
   "outputs": [
    {
     "name": "stdout",
     "output_type": "stream",
     "text": [
      "alpha: 1.00E-01  train: 0.99748  valid: 0.37500\n"
     ]
    }
   ],
   "source": [
    "from sklearn.linear_model import RidgeClassifierCV\n",
    "ridge = RidgeClassifierCV(alphas=np.logspace(-8, 8, 17), normalize=True)\n",
    "ridge.fit(X_train, y_train)\n",
    "print(f'alpha: {ridge.alpha_:.2E}  train: {ridge.score(X_train, y_train):.5f}  valid: {ridge.score(X_valid, y_valid):.5f}')"
   ]
  },
  {
   "cell_type": "code",
   "execution_count": null,
   "metadata": {},
   "outputs": [],
   "source": []
  }
 ],
 "metadata": {
  "kernelspec": {
   "display_name": "Python [conda env:timeseriesai]",
   "language": "python",
   "name": "conda-env-timeseriesai-py"
  },
  "language_info": {
   "codemirror_mode": {
    "name": "ipython",
    "version": 3
   },
   "file_extension": ".py",
   "mimetype": "text/x-python",
   "name": "python",
   "nbconvert_exporter": "python",
   "pygments_lexer": "ipython3",
   "version": "3.8.5"
  }
 },
 "nbformat": 4,
 "nbformat_minor": 4
}
